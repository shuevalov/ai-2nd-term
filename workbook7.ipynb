{
 "cells": [
  {
   "attachments": {},
   "cell_type": "markdown",
   "metadata": {},
   "source": [
    "Задание. Реализовать классы нейросетей по аналогии с классом OurNeuralNetwork. Данные нейросети:\n",
    "− три входа (𝑥1, 𝑥2, 𝑥3);\n",
    "− три нейрона в скрытых слоях (h1, h2, h3);\n",
    "− выход (𝑜1).\n",
    "Нейроны имеют идентичные веса и пороги:\n",
    "− 𝑤 = [0.5, 0.5, 0.5]\n",
    "−𝑏=0 Данные нейросети:\n",
    "− два входа (𝑥1, 𝑥2);\n",
    "− два нейрона в скрытых слоях (h1, h2);\n",
    "− два выхода (𝑜1, 𝑜2).\n",
    "Нейроны имеют идентичные веса и пороги: − 𝑤 = [1,0];\n",
    "− 𝑏 = 1.\n",
    "Реализуйте классы нейронных сетей с использованием других функций активации."
   ]
  },
  {
   "cell_type": "code",
   "execution_count": 1,
   "metadata": {},
   "outputs": [],
   "source": [
    "import numpy as np\n",
    "\n",
    "def sigmoid(x):\n",
    "  # Функция активации: f(x) = 1 / (1 + e^(-x))\n",
    "  return 1 / (1 + np.exp(-x))\n",
    "def tanh(x):\n",
    "  return np.tanh(x)\n",
    "def ReLU(x):\n",
    "  return max(0,x)\n",
    "\n",
    "class Neuron:\n",
    "  def __init__(self, weights, bias) :\n",
    "    self.weights = weights\n",
    "    self.bias = bias\n",
    "  def feedforward (self, inputs) :\n",
    "    total = np.dot(self.weights, inputs) + self.bias\n",
    "    return tanh(total)\n",
    "  \n",
    "class Neuron2:\n",
    "  def __init__(self, weights, bias) :\n",
    "    self.weights = weights\n",
    "    self.bias = bias\n",
    "  def feedforward (self, inputs) :\n",
    "    total = np.dot(self.weights, inputs) + self.bias\n",
    "    return ReLU(total)\n",
    "\n",
    "class Neuron3:\n",
    "  def __init__(self, weights, bias) :\n",
    "    self.weights = weights\n",
    "    self.bias = bias\n",
    "  def feedforward (self, inputs) :\n",
    "    total = np.dot(self.weights, inputs) + self.bias\n",
    "    return sigmoid(total)"
   ]
  },
  {
   "cell_type": "code",
   "execution_count": 2,
   "metadata": {},
   "outputs": [
    {
     "name": "stdout",
     "output_type": "stream",
     "text": [
      "0.9050813365686774\n"
     ]
    }
   ],
   "source": [
    "class OurNeuralNetwork:\n",
    "  '''Данные нейросети:\n",
    "− три входа (𝑥1, 𝑥2, 𝑥3);\n",
    "− три нейрона в скрытых слоях (h1, h2, h3);\n",
    "− выход (𝑜1).\n",
    "Нейроны имеют идентичные веса и пороги:\n",
    "− 𝑤 = [0.5, 0.5, 0.5]\n",
    "−𝑏=0'''\n",
    "  def __init__(self):\n",
    "    weights = np.array ([0.5,0.5,0.5])\n",
    "    bias = 0\n",
    "    # Класс Neuron из предыдущего раздела\n",
    "    self.h1 = Neuron (weights, bias)\n",
    "    self.h2 = Neuron (weights, bias)\n",
    "    self.h3 = Neuron (weights, bias)\n",
    "    self.o1 = Neuron (weights, bias)\n",
    "  def feedforward(self, x):\n",
    "    out_h1 = self.h1.feedforward(x)\n",
    "    out_h2 = self.h2.feedforward(x)\n",
    "    out_h3 = self.h3.feedforward(x)\n",
    "    # Входы для о1 - это выходы h1 u h2\n",
    "    out1 = self.o1.feedforward(np.array ([out_h1, out_h2, out_h3]))\n",
    "    return out1\n",
    "network = OurNeuralNetwork()\n",
    "x = np.array([2,3,4])\n",
    "print(network.feedforward (x))"
   ]
  },
  {
   "cell_type": "code",
   "execution_count": 4,
   "metadata": {},
   "outputs": [
    {
     "name": "stdout",
     "output_type": "stream",
     "text": [
      "(8, 8)\n"
     ]
    }
   ],
   "source": [
    "class OurNeuralNetwork2:\n",
    "  '''Данные нейросети:\n",
    "− два входа (𝑥1, 𝑥2);\n",
    "− два нейрона в скрытых слоях (h1, h2);\n",
    "− два выхода (𝑜1, 𝑜2).\n",
    "Нейроны имеют идентичные веса и пороги: − 𝑤 = [1,0];\n",
    "− 𝑏 = 1.'''\n",
    "\n",
    "  def __init__(self):\n",
    "    weights = np.array ([1,0])\n",
    "    bias = 1\n",
    "    # Класс Neuron из предыдущего раздела\n",
    "    self.h1 = Neuron2 (weights, bias)\n",
    "    self.h2 = Neuron2 (weights, bias)\n",
    "    self.o1 = Neuron2 (weights, bias)\n",
    "    self.o2 = Neuron2 (weights, bias)\n",
    "\n",
    "  def feedforward(self, x):\n",
    "    out_h1 = self.h1.feedforward(x)\n",
    "    out_h2 = self.h2.feedforward(x)\n",
    "    # Входы для о1 - это выходы h1, h2\n",
    "    out1 = self.o1.feedforward(np.array ([out_h1, out_h2]))\n",
    "    out2 = self.o1.feedforward(np.array ([out_h1, out_h2]))\n",
    "    return out1, out2\n",
    "  \n",
    "network = OurNeuralNetwork2()\n",
    "x = np.array([6,4])\n",
    "print(network.feedforward(x)) "
   ]
  },
  {
   "cell_type": "code",
   "execution_count": 5,
   "metadata": {},
   "outputs": [
    {
     "name": "stdout",
     "output_type": "stream",
     "text": [
      "(0.8807013902565914, 0.8807013902565914)\n"
     ]
    }
   ],
   "source": [
    "class OurNeuralNetwork3:\n",
    "  '''Данные нейросети:\n",
    "− два входа (𝑥1, 𝑥2);\n",
    "− два нейрона в скрытых слоях (h1, h2);\n",
    "− два выхода (𝑜1, 𝑜2).\n",
    "Нейроны имеют идентичные веса и пороги: − 𝑤 = [1,0];\n",
    "− 𝑏 = 1.'''\n",
    "\n",
    "  def __init__(self):\n",
    "    weights = np.array ([1,0])\n",
    "    bias = 1\n",
    "    # Класс Neuron из предыдущего раздела\n",
    "    self.h1 = Neuron3 (weights, bias)\n",
    "    self.h2 = Neuron3 (weights, bias)\n",
    "    self.o1 = Neuron3 (weights, bias)\n",
    "    self.o2 = Neuron3 (weights, bias)\n",
    "\n",
    "  def feedforward(self, x):\n",
    "    out_h1 = self.h1.feedforward(x)\n",
    "    out_h2 = self.h2.feedforward(x)\n",
    "    # Входы для о1 - это выходы h1, h2\n",
    "    out1 = self.o1.feedforward(np.array ([out_h1, out_h2]))\n",
    "    out2 = self.o1.feedforward(np.array ([out_h1, out_h2]))\n",
    "    return out1, out2\n",
    "  \n",
    "network = OurNeuralNetwork3()\n",
    "x = np.array([6,4])\n",
    "print(network.feedforward(x)) "
   ]
  },
  {
   "attachments": {},
   "cell_type": "markdown",
   "metadata": {},
   "source": [
    "Задание (1.2 номера нет). Используйте классы MLPClassified и MLPRegressor для классификации и регрессии произвольных данных из интернета. Проведите анализ атрибуты, полученных моделей. Для классификации можете взять набор данных Ирисов: https://gist.githubusercontent.com/netj/8836201/raw/6f9306ad21398ea43cba4f 7d537619d0e07d5ae3/iris.csv а для регрессии датасет зависимости заработной платы от опыта работы: https://raw.githubusercontent.com/AnnaShestova/salary-years-simple-linear- regression/master/Salary_Data.csv"
   ]
  },
  {
   "cell_type": "code",
   "execution_count": 6,
   "metadata": {},
   "outputs": [
    {
     "name": "stderr",
     "output_type": "stream",
     "text": [
      "d:\\downloads\\anaconda3\\lib\\site-packages\\sklearn\\neural_network\\_multilayer_perceptron.py:692: ConvergenceWarning: Stochastic Optimizer: Maximum iterations (200) reached and the optimization hasn't converged yet.\n",
      "  warnings.warn(\n"
     ]
    },
    {
     "name": "stdout",
     "output_type": "stream",
     "text": [
      "Test Accuracy : 0.967\n",
      "Training Accuracy : 0.975\n",
      "Loss :  0.30126073940749404\n",
      "Number of Coefs :  2\n",
      "Number of Intercepts :  2\n",
      "Number of Iterations for Which Estimator Ran :  200\n",
      "Name of Output Layer Activation Function :  softmax\n"
     ]
    },
    {
     "data": {
      "image/png": "[encoded data removed]",
      "text/plain": [
       "<Figure size 300x300 with 2 Axes>"
      ]
     },
     "metadata": {},
     "output_type": "display_data"
    }
   ],
   "source": [
    "from sklearn.tree import DecisionTreeRegressor\n",
    "from sklearn.model_selection import train_test_split\n",
    "from sklearn import tree, metrics\n",
    "import pandas as pd\n",
    "import matplotlib.pyplot as plt\n",
    "\n",
    "url = 'https://gist.githubusercontent.com/netj/8836201/raw/6f9306ad21398ea43cba4f7d537619d0e07d5ae3/iris.csv'\n",
    "iris = pd.read_csv(url)\n",
    "X_train, X_test, y_train, y_test = train_test_split(\n",
    "  iris.iloc[:,:-1],\n",
    "  iris.iloc[:,-1],\n",
    "  test_size = 0.2, random_state = 123) \n",
    "from sklearn.neural_network import MLPClassifier\n",
    "mlp_classifier = MLPClassifier(random_state=123)\n",
    "mlp_classifier.fit(X_train, y_train)\n",
    "Y_preds = mlp_classifier.predict (X_test)\n",
    "## Метод Score для оценки точности моделей классификации.\n",
    "print('Test Accuracy : %.3f'%mlp_classifier.score(X_test, y_test))\n",
    "print('Training Accuracy : %.3f'%mlp_classifier.score(X_train, y_train))\n",
    "from sklearn.metrics import confusion_matrix\n",
    "\n",
    "def plot_confusion_matrix(Y_test, Y_preds):\n",
    "  conf_mat = confusion_matrix(Y_test, Y_preds)\n",
    "  #print(conf mat)\n",
    "  fig = plt.figure(figsize= (3,3))\n",
    "  plt.matshow(conf_mat, cmap=plt.cm.Blues, fignum=1)\n",
    "  plt.yticks(range(3), range (3))\n",
    "  plt.xticks(range(3), range (3))\n",
    "  plt.colorbar ();\n",
    "  for i in range (3):\n",
    "    for j in range(3):\n",
    "      plt.text(i-0.2,j+0.1, str(conf_mat[j, i]), color='tab:red')\n",
    "      \n",
    "plot_confusion_matrix(y_test, mlp_classifier.predict(X_test))\n",
    "print(\"Loss : \",mlp_classifier.loss_)\n",
    "print(\"Number of Coefs : \", len(mlp_classifier.coefs_))\n",
    "print(\"Number of Intercepts : \", len (mlp_classifier.intercepts_))\n",
    "print(\"Number of Iterations for Which Estimator Ran : \", mlp_classifier.n_iter_)\n",
    "print(\"Name of Output Layer Activation Function : \", mlp_classifier.out_activation_)"
   ]
  },
  {
   "cell_type": "code",
   "execution_count": 7,
   "metadata": {},
   "outputs": [
    {
     "name": "stdout",
     "output_type": "stream",
     "text": [
      "Test R^2 Score : -24.365\n",
      " Training R^2 Score : -8.152\n",
      "Loss :  3600324819.572298\n",
      "Number of Coefs :  2\n",
      "Number of Intercepts :  2\n",
      "Number of Iterations for Which Estimator Ran :  200\n",
      "Name of Output Layer Activation Function :  identity\n"
     ]
    },
    {
     "name": "stderr",
     "output_type": "stream",
     "text": [
      "d:\\downloads\\anaconda3\\lib\\site-packages\\sklearn\\neural_network\\_multilayer_perceptron.py:692: ConvergenceWarning: Stochastic Optimizer: Maximum iterations (200) reached and the optimization hasn't converged yet.\n",
      "  warnings.warn(\n"
     ]
    }
   ],
   "source": [
    "from sklearn.neural_network import MLPRegressor\n",
    "url = 'https://raw.githubusercontent.com/AnnaShestova/salary-years-simple-linear-regression/master/Salary_Data.csv'\n",
    "iris = pd.read_csv(url)\n",
    "X_train, X_test, y_train, y_test = train_test_split(\n",
    "  iris.iloc[:,:-1],\n",
    "  iris.iloc[:,-1],\n",
    "  test_size = 0.2) \n",
    "mlp_regressor = MLPRegressor ()\n",
    "mlp_regressor.fit (X_train, y_train)\n",
    "y_preds = mlp_regressor.predict (X_test)\n",
    "## Memod Score оценивает точность моделей классификации.\n",
    "print('Test R^2 Score :', round(mlp_regressor.score(X_test, y_test), 3))\n",
    "print(' Training R^2 Score :', round(mlp_regressor.score(X_train, y_train),3))\n",
    "print(\"Loss : \",mlp_regressor.loss_)\n",
    "print(\"Number of Coefs : \", len(mlp_regressor.coefs_))\n",
    "print(\"Number of Intercepts : \", len(mlp_regressor.intercepts_))\n",
    "print(\"Number of Iterations for Which Estimator Ran : \", mlp_regressor.n_iter_)\n",
    "print(\"Name of Output Layer Activation Function : \", mlp_regressor.out_activation_)"
   ]
  }
 ],
 "metadata": {
  "kernelspec": {
   "display_name": "base",
   "language": "python",
   "name": "python3"
  },
  "language_info": {
   "codemirror_mode": {
    "name": "ipython",
    "version": 3
   },
   "file_extension": ".py",
   "mimetype": "text/x-python",
   "name": "python",
   "nbconvert_exporter": "python",
   "pygments_lexer": "ipython3",
   "version": "3.9.13"
  },
  "orig_nbformat": 4
 },
 "nbformat": 4,
 "nbformat_minor": 2
}
