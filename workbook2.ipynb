{
 "cells": [
  {
   "cell_type": "code",
   "execution_count": null,
   "metadata": {},
   "outputs": [],
   "source": []
  }
 ],
 "metadata": {
  "kernelspec": {
   "display_name": "base",
   "language": "python",
   "name": "python3"
  },
  "language_info": {
   "name": "python",
   "version": "3.9.13"
  },
  "orig_nbformat": 4,
  "vscode": {
   "interpreter": {
    "hash": "98c4a423d8062e979e4cddb1811c8e992532c1c9fe9ad9d5b7b338b7f9bd00d2"
   }
  }
 },
 "nbformat": 4,
 "nbformat_minor": 2
}
